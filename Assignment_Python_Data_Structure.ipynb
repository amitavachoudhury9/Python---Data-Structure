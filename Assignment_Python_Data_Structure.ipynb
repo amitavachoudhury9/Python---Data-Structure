{
  "nbformat": 4,
  "nbformat_minor": 0,
  "metadata": {
    "colab": {
      "provenance": []
    },
    "kernelspec": {
      "name": "python3",
      "display_name": "Python 3"
    },
    "language_info": {
      "name": "python"
    }
  },
  "cells": [
    {
      "cell_type": "markdown",
      "source": [
        "# Assignment : Python - Data Structure"
      ],
      "metadata": {
        "id": "5JLIFRnvVnMM"
      }
    },
    {
      "cell_type": "markdown",
      "source": [
        "DATA TYPE AND DATA STRUCTURE THEORITICAL Q & A"
      ],
      "metadata": {
        "id": "BSmCEDaaW3ql"
      }
    },
    {
      "cell_type": "markdown",
      "source": [
        "1. What are data structures, and why are they important?\n",
        "  - Data structures are the way of organizing and storing the data so that it can be accessed and modified efficiently. eg, Tuple, String, List, Dictionary, array etc.\n",
        "  They are important because they are crucial for efficient data management and algorithm implementation, impacting the performance and scalability of software applications.\n",
        "\n",
        "2. Explain the difference between mutable and immutable data types with examples?\n",
        "  - Mutable data types are the type of data type which can be changed after its creation. eg, lists, dictionary, etc.\n",
        "  \n",
        "    Example: list=[1,2,3]\n",
        "  list[0]=4 #here now the original list[1,2,3] after list[0]=4 has become list[4,2,3]\n",
        "\n",
        "    Immutable data types are the type of data type which cannot be changed after its creation. eg, Tuple, String.\n",
        "  Example: my_tuple = (1, 2, 3)\n",
        "  my_tuple[0] = 4 # This will raise a TypeError\n",
        "\n",
        "3. What are the main differences between lists and tuples in Python?\n",
        "  - Main Differences Between Lists and Tuples in Python:\n",
        "\n",
        "    Mutability:\n",
        "\n",
        "    Lists: Mutable — you can modify elements, add, or remove items.\n",
        "    Tuples: Immutable — once created, they cannot be changed.\n",
        "\n",
        "    Syntax:\n",
        "\n",
        "    Lists: Defined with square brackets — [1, 2, 3]\n",
        "    Tuples: Defined with parentheses — (1, 2, 3)\n",
        "\n",
        "    Performance:\n",
        "\n",
        "    Lists: Slightly slower than tuples due to mutability.\n",
        "    Tuples: Faster and more memory-efficient.\n",
        "\n",
        "    Use Case:\n",
        "\n",
        "    Lists: Great when you need a dynamic, changeable collection (e.g., shopping cart).\n",
        "    Tuples: Ideal for fixed data — like coordinates or function argument grouping.\n",
        "\n",
        "    Safety:\n",
        "\n",
        "    Lists: Higher risk of accidental modification.\n",
        "    Tuples: Safer when data integrity is important.\n",
        "\n",
        "4. Describe how dictionaries store data?\n",
        "  - Dictionaries store data in key-value pairs. Each key is hashed to a unique index in an array where the corresponding value is stored.\n",
        "  Example: dict = {'name': 'Amitava', 'age': 33}\n",
        "  Here name is key while Amitava is value of key.\n",
        "\n",
        "5. Why might you use a set instead of a list in Python?\n",
        "  - A set in Python is an unordered collection of unique elements. While lists allow duplicates and preserve order, sets are your go-to when uniqueness and fast lookup matter.\n",
        "\n",
        "    Reasons to Use a Set Over a List\n",
        "\n",
        "    Eliminate Duplicates Automatically--- If we are collecting data where duplicates aren’t useful—like usernames, tags, or IDs—a set ensures each item is stored only once.\n",
        "\n",
        "    Faster Membership Testing--- Checking if an item exists in a set is much faster than in a list thanks to hashing. Great for large datasets.\n",
        "\n",
        "    Set Operations--- Sets support powerful operations like union, intersection, and difference perfect for filtering, merging, or finding commonalities between groups.\n",
        "\n",
        "6. What is a string in Python, and how is it different from a list?\n",
        "  - A string is a sequence of characters enclosed within single quotes ('...') or double quotes (\"...\"). It’s used to represent text—like words, sentences, or even symbols.\n",
        "\n",
        "    greeting = \"Hello, world!\"\n",
        "\n",
        "    Strings are immutable, meaning once created, their contents can’t be changed. we can access characters by index, slice portions, or concatenate them, but any operation that modifies the string results in a new one.\n",
        "\n",
        "    Strings vs Lists in Python\n",
        "\n",
        "    Basic Nature\n",
        "\n",
        "    A string is a sequence of characters, used to represent text.\n",
        "    A list is a sequence of elements, which can be of any data type—numbers, strings, booleans, even other lists.\n",
        "    Mutability\n",
        "\n",
        "    Strings are immutable — you can’t change characters directly.\n",
        "    Lists are mutable — you can modify, add, or remove elements.\n",
        "\n",
        "7. How do tuples ensure data integrity in Python?\n",
        "  - Since tuples are immutable in nature thats why, Once created, the elements of a tuple cannot be changed, ensuring that the data remains constant.\n",
        "\n",
        "8. What is a hash table, and how does it relate to dictionaries in Python?\n",
        "  - Hash Table: A data structure that maps keys to values using a hash function to compute an index into an array of buckets or slots.\n",
        "\n",
        "    Relation to Dictionaries: Python dictionaries are implemented using hash tables.\n",
        "  \n",
        "9. Can lists contain different data types in Python?\n",
        "   - Yes: Lists can contain elements of different data types, such as integers, strings, and even other lists.\n",
        "   eg, mylist=[1,'Amitava',3.5]\n",
        "\n",
        "10. Explain why strings are immutable in Python?\n",
        "  - Immutability helps with performance optimization, memory efficiency, and thread safety. It also allows strings to be used as keys in dictionaries.\n",
        "\n",
        "11. What advantages do dictionaries offer over lists for certain tasks?\n",
        "  - Key-Value Mapping: Efficient for lookups, insertions, and deletions based on keys. Example: Storing user information where quick access to user details by username is needed.\n",
        "\n",
        "12. Describe a scenario where using a tuple would be preferable over a list?\n",
        "  - Storing coordinates of a point (x, y) where the values should not change.\n",
        "\n",
        "13. How do sets handle duplicate values in Python?\n",
        "  - Python set data structures inherently do not allow duplicate values. When we attempt to add duplicate values to a set, or when we create a set from an iterable that contains duplicates, the set will automatically discard the duplicates, storing only one instance of each unique element.\n",
        "\n",
        "14. How does the “in” keyword work differently for lists and dictionaries?\n",
        "  - In List \"in\" Checks for the presence of a value as an element.\n",
        "    In Dictionary \"in\" checks for the presence of a key.\n",
        "\n",
        "15. Can you modify the elements of a tuple? Explain why or why not?\n",
        "  - No, we cannot modify the elements of a tuple in Python because Tuples are designed to be immutable, meaning that once a tuple is created, its contents are permanently fixed. we cannot add, remove, or change individual elements within it.\n",
        "\n",
        "16. What is a nested dictionary, and give an example of its use case?\n",
        "  - A nested dictionary is the dictionary within another dictionary.\n",
        "  nested_dict = {'user1': {'name': 'Amitava', 'age': 33}, 'user2': {'name': 'Ajay', 'age': 22}}\n",
        "\n",
        "17. Describe the time complexity of accessing elements in a dictionary.\n",
        "  - The time complexity of accessing elements in a Python dictionary (ie., looking up a value using its key) is, on average, O(1) (constant time).\n",
        "\n",
        "18. In what situations are lists preferred over dictionaries?\n",
        "  - When data naturally fits a sequence, where order and positional access are important, and duplicates are acceptable, a list is the preffered choice.\n",
        "\n",
        "19. Why are dictionaries considered unordered, and how does that affect data retrieval?\n",
        "  - Dictionaries are designed for fast, direct access to values when we have the unique key. Their \"unordered\" nature means we trade index-based access for extremely efficient key-based retrieval, making them ideal for mapping and lookup tasks.\n",
        "  We cannot retrieve items using integer indices like my_dict[0]. We must know the exact key to retrieve its associated value.\n",
        "  Data retrieval is inherently driven by the key. If we don't know the key, we have to iterate through the dictionary's keys or values to find what we're looking for, which is less efficient than a direct key lookup.\n",
        "\n",
        "20. Explain the difference between a list and a dictionary in terms of data retrieval.\n",
        "  - Lists are for ordered collections where you want to retrieve \"the Nth item,\" like List[1].\n",
        "- while dictionaries are for unordered collections where you want to retrieve \"the item named X. eg, my_dict = {'name': 'Amitava', 'age': 33, 'city': 'Durgapur'} person_name = my_dict['name'] person_age = my_age['age']"
      ],
      "metadata": {
        "id": "WBjCtU25ZC0m"
      }
    },
    {
      "cell_type": "markdown",
      "source": [
        "DATA TYPE AND DATA STRUCTURE PRACTICAL Q & A"
      ],
      "metadata": {
        "id": "xMgilFAEP6Kz"
      }
    },
    {
      "cell_type": "code",
      "source": [
        "#Q1. Write a code to create a string with your name and print it.\n",
        "# creating string\n",
        "name= \"Amitava\"\n",
        "\n",
        "#printing string\n",
        "print(f\"My name is {name}.\")"
      ],
      "metadata": {
        "colab": {
          "base_uri": "https://localhost:8080/"
        },
        "id": "die41Q3IQAQt",
        "outputId": "e1b52300-0283-41f0-cb70-388e3e08f10c"
      },
      "execution_count": null,
      "outputs": [
        {
          "output_type": "stream",
          "name": "stdout",
          "text": [
            "My name is Amitava.\n"
          ]
        }
      ]
    },
    {
      "cell_type": "code",
      "source": [
        "#Q2. Write a code to find the length of the string \"Hello World\".\n",
        "# creating string\n",
        "str=\"hello\"\n",
        "lenght_str=len(str)\n",
        "\n",
        "#printing length of string\n",
        "print(f\"Length of string is {lenght_str}.\")"
      ],
      "metadata": {
        "colab": {
          "base_uri": "https://localhost:8080/"
        },
        "id": "vdSWjcRNQcCm",
        "outputId": "3079cee9-e04f-4260-abc5-3a930e0ec67d"
      },
      "execution_count": null,
      "outputs": [
        {
          "output_type": "stream",
          "name": "stdout",
          "text": [
            "Length of string is 5.\n"
          ]
        }
      ]
    },
    {
      "cell_type": "code",
      "source": [
        "#Q3. Write a code to slice the first 3 characters from the string \"Python Programming\".\n",
        "\n",
        "# creating string\n",
        "str=\"Python Programming\"\n",
        "\n",
        "# slicing for first 3 characters\n",
        "str[0:3]"
      ],
      "metadata": {
        "colab": {
          "base_uri": "https://localhost:8080/",
          "height": 35
        },
        "id": "j_B8vXvuSQrY",
        "outputId": "47bc8463-3fc4-44f3-9232-798fcbe6aab8"
      },
      "execution_count": null,
      "outputs": [
        {
          "output_type": "execute_result",
          "data": {
            "text/plain": [
              "'Pyt'"
            ],
            "application/vnd.google.colaboratory.intrinsic+json": {
              "type": "string"
            }
          },
          "metadata": {},
          "execution_count": 5
        }
      ]
    },
    {
      "cell_type": "code",
      "source": [
        "#Q4. Write a code to convert the string \"hello\" to uppercase.\n",
        "\n",
        "# creating string\n",
        "str=\"hello\"\n",
        "\n",
        "# apply uppercase method\n",
        "str.upper()"
      ],
      "metadata": {
        "colab": {
          "base_uri": "https://localhost:8080/",
          "height": 35
        },
        "id": "3IdPoK-qSZ8N",
        "outputId": "2f6a06bc-a7b5-4b55-f5a2-cf1a006f7b09"
      },
      "execution_count": null,
      "outputs": [
        {
          "output_type": "execute_result",
          "data": {
            "text/plain": [
              "'HELLO'"
            ],
            "application/vnd.google.colaboratory.intrinsic+json": {
              "type": "string"
            }
          },
          "metadata": {},
          "execution_count": 6
        }
      ]
    },
    {
      "cell_type": "code",
      "source": [
        "#Q5. Write a code to replace the word \"apple\" with \"orange\" in the string \"I like apple\".\n",
        "\n",
        "# Original string\n",
        "String = \"I like apple\"\n",
        "\n",
        "# Replacing 'apple' with 'orange'\n",
        "repString = String.replace('apple', 'orange')\n",
        "\n",
        "# Printing the updated string\n",
        "print(repString)"
      ],
      "metadata": {
        "colab": {
          "base_uri": "https://localhost:8080/"
        },
        "id": "Vd2Va5IYSfm-",
        "outputId": "7324da98-9728-41f3-d470-17798e1da677"
      },
      "execution_count": null,
      "outputs": [
        {
          "output_type": "stream",
          "name": "stdout",
          "text": [
            "I like orange\n"
          ]
        }
      ]
    },
    {
      "cell_type": "code",
      "source": [
        "#Q6. Write a code to create a list with numbers 1 to 5 and print it.\n",
        "# Creating a list with numbers from 1 to 5\n",
        "number_list = [1, 2, 3, 4, 5]\n",
        "\n",
        "# Printing the list\n",
        "print(f\"list :{number_list}\")"
      ],
      "metadata": {
        "colab": {
          "base_uri": "https://localhost:8080/"
        },
        "id": "sYQ32e9mSnCy",
        "outputId": "ee0f2106-1b53-4c4c-eca8-8f9a4e740741"
      },
      "execution_count": null,
      "outputs": [
        {
          "output_type": "stream",
          "name": "stdout",
          "text": [
            "list :[1, 2, 3, 4, 5]\n"
          ]
        }
      ]
    },
    {
      "cell_type": "code",
      "source": [
        "#Q7. Write a code to append the number 10 to the list [1, 2, 3, 4].\n",
        "\n",
        "# Original list\n",
        "numbers = [1, 2, 3, 4]\n",
        "print(f\"original list : {numbers}\")\n",
        "\n",
        "# Appending the number 10\n",
        "numbers.append(10)\n",
        "\n",
        "# Printing the updated list\n",
        "print(f\" new list : {numbers}\")"
      ],
      "metadata": {
        "colab": {
          "base_uri": "https://localhost:8080/"
        },
        "id": "XQaYLK6MX-UA",
        "outputId": "8ca9bb98-3d0e-4424-d34b-6bee11a1d524"
      },
      "execution_count": null,
      "outputs": [
        {
          "output_type": "stream",
          "name": "stdout",
          "text": [
            "original list : [1, 2, 3, 4]\n",
            " new list : [1, 2, 3, 4, 10]\n"
          ]
        }
      ]
    },
    {
      "cell_type": "code",
      "source": [
        "#Q8. Write a code to remove the number 3 from the list [1, 2, 3, 4, 5].\n",
        "\n",
        "# Original list\n",
        "numbers = [1, 2, 3, 4, 5]\n",
        "print(f\"original list : {numbers}\")\n",
        "\n",
        "# Removing the number 3\n",
        "numbers.remove(3)\n",
        "\n",
        "# Printing the updated list\n",
        "print(f\" new list : {numbers}\")"
      ],
      "metadata": {
        "colab": {
          "base_uri": "https://localhost:8080/"
        },
        "id": "-Q23iAb_YHTR",
        "outputId": "3f16df90-010d-4249-d691-c16ba6b7ff58"
      },
      "execution_count": null,
      "outputs": [
        {
          "output_type": "stream",
          "name": "stdout",
          "text": [
            "original list : [1, 2, 3, 4, 5]\n",
            " new list : [1, 2, 4, 5]\n"
          ]
        }
      ]
    },
    {
      "cell_type": "code",
      "source": [
        "#Q9. Write a code to access the second element in the list ['a', 'b', 'c', 'd'].\n",
        "# List of elements\n",
        "letters = ['a', 'b', 'c', 'd']\n",
        "\n",
        "# Accessing the second element\n",
        "second_element = letters[1]\n",
        "\n",
        "# Printing the second element\n",
        "print(\"The second element is:\", second_element)"
      ],
      "metadata": {
        "colab": {
          "base_uri": "https://localhost:8080/"
        },
        "id": "zcwS2zpuYWAU",
        "outputId": "3996cc1d-872a-4dbf-fdaf-0a0f6b068291"
      },
      "execution_count": null,
      "outputs": [
        {
          "output_type": "stream",
          "name": "stdout",
          "text": [
            "The second element is: b\n"
          ]
        }
      ]
    },
    {
      "cell_type": "code",
      "source": [
        "#Q10. Write a code to reverse the list [10, 20, 30, 40, 50].\n",
        "\n",
        "# Original list\n",
        "numbers = [10, 20, 30, 40, 50]\n",
        "print(f\"original list : {numbers}\")\n",
        "\n",
        "# Reversing the list\n",
        "reversed_numbers = numbers[::-1]\n",
        "\n",
        "# Printing the reversed list\n",
        "print(f\" reversed list : {reversed_numbers}\")"
      ],
      "metadata": {
        "colab": {
          "base_uri": "https://localhost:8080/"
        },
        "id": "s817Ph35Zkai",
        "outputId": "a767fcc8-4c55-4893-ef72-708dd149fcfd"
      },
      "execution_count": null,
      "outputs": [
        {
          "output_type": "stream",
          "name": "stdout",
          "text": [
            "original list : [10, 20, 30, 40, 50]\n",
            " reversed list : [50, 40, 30, 20, 10]\n"
          ]
        }
      ]
    },
    {
      "cell_type": "code",
      "source": [
        "#Q11.  Write a code to create a tuple with the elements 100, 200, 300 and print it.\n",
        "\n",
        "# Creating a tuple with elements 100, 200, and 300\n",
        "my_tuple = (100, 200, 300)\n",
        "\n",
        "# Printing the tuple\n",
        "print(my_tuple)"
      ],
      "metadata": {
        "colab": {
          "base_uri": "https://localhost:8080/"
        },
        "id": "11Xk25ytZuVI",
        "outputId": "4d1728d4-2d5c-4046-985b-958869ca480f"
      },
      "execution_count": null,
      "outputs": [
        {
          "output_type": "stream",
          "name": "stdout",
          "text": [
            "(100, 200, 300)\n"
          ]
        }
      ]
    },
    {
      "cell_type": "code",
      "source": [
        "#Q12. Write a code to access the second-to-last element of the tuple ('red', 'green', 'blue', 'yellow').\n",
        "\n",
        "# Tuple of colors\n",
        "colors = ('red', 'green', 'blue', 'yellow')\n",
        "\n",
        "# Accessing the second-to-last element\n",
        "second_last = colors[-2]\n",
        "\n",
        "# Printing the result\n",
        "print(\"The second-to-last element is:\", second_last)"
      ],
      "metadata": {
        "colab": {
          "base_uri": "https://localhost:8080/"
        },
        "id": "ytNHtiyUZ2rK",
        "outputId": "ab0f39ac-b438-4159-fda5-bbf660bda49e"
      },
      "execution_count": null,
      "outputs": [
        {
          "output_type": "stream",
          "name": "stdout",
          "text": [
            "The second-to-last element is: blue\n"
          ]
        }
      ]
    },
    {
      "cell_type": "code",
      "source": [
        "#Q13. Write a code to find the minimum number in the tuple (10, 20, 5, 15).\n",
        "\n",
        "# Tuple of numbers\n",
        "numbers = (10, 20, 5, 15)\n",
        "\n",
        "# Finding the minimum number\n",
        "minimum_value = min(numbers)\n",
        "\n",
        "# Printing the result\n",
        "print(\"The minimum number is:\", minimum_value)"
      ],
      "metadata": {
        "colab": {
          "base_uri": "https://localhost:8080/"
        },
        "id": "2CAf6jafZ5fZ",
        "outputId": "27966f7d-0fae-4dad-9d2a-3f777c8449fc"
      },
      "execution_count": null,
      "outputs": [
        {
          "output_type": "stream",
          "name": "stdout",
          "text": [
            "The minimum number is: 5\n"
          ]
        }
      ]
    },
    {
      "cell_type": "code",
      "source": [
        "#Q14. Write a code to find the index of the element \"cat\" in the tuple ('dog', 'cat', 'rabbit').\n",
        "\n",
        "# Tuple of animals\n",
        "animals = ('dog', 'cat', 'rabbit')\n",
        "\n",
        "# Finding the index of \"cat\"\n",
        "cat_index = animals.index('cat')\n",
        "\n",
        "# Printing the result\n",
        "print(\"The index of 'cat' is:\", cat_index)"
      ],
      "metadata": {
        "colab": {
          "base_uri": "https://localhost:8080/"
        },
        "id": "VeMlNdxmaALS",
        "outputId": "b5479f3b-01ed-40e8-c07b-8d36087e7686"
      },
      "execution_count": null,
      "outputs": [
        {
          "output_type": "stream",
          "name": "stdout",
          "text": [
            "The index of 'cat' is: 1\n"
          ]
        }
      ]
    },
    {
      "cell_type": "code",
      "source": [
        "#Q15. Write a code to create a tuple containing three different fruits and check if \"kiwi\" is in it.\n",
        "\n",
        "# Creating a tuple with three fruits\n",
        "fruits = ('apple', 'banana', 'mango')\n",
        "\n",
        "# Checking if 'kiwi' is in the tuple\n",
        "is_kiwi_present = 'kiwi' in fruits\n",
        "\n",
        "# Printing the result\n",
        "print(\"Is 'kiwi' in the tuple?\", is_kiwi_present)"
      ],
      "metadata": {
        "colab": {
          "base_uri": "https://localhost:8080/"
        },
        "id": "uMgQ-1loaGJQ",
        "outputId": "71c3aee6-5169-4acc-a3f8-92099070db6a"
      },
      "execution_count": null,
      "outputs": [
        {
          "output_type": "stream",
          "name": "stdout",
          "text": [
            "Is 'kiwi' in the tuple? False\n"
          ]
        }
      ]
    },
    {
      "cell_type": "code",
      "source": [
        "#Q16.  Write a code to create a set with the elements 'a', 'b', 'c' and print it.\n",
        "\n",
        "# Creating a set with elements 'a', 'b', and 'c'\n",
        "my_set = {'a', 'b', 'c'}\n",
        "\n",
        "# Printing the set\n",
        "print(my_set)"
      ],
      "metadata": {
        "colab": {
          "base_uri": "https://localhost:8080/"
        },
        "id": "LGXHMo6XaKrC",
        "outputId": "455dca62-3db5-4044-8e33-2e50a7ef6554"
      },
      "execution_count": null,
      "outputs": [
        {
          "output_type": "stream",
          "name": "stdout",
          "text": [
            "{'b', 'c', 'a'}\n"
          ]
        }
      ]
    },
    {
      "cell_type": "code",
      "source": [
        "#Q17. Write a code to clear all elements from the set {1, 2, 3, 4, 5}.\n",
        "\n",
        "# Original set\n",
        "alphSet =  {1, 2, 3, 4, 5}\n",
        "\n",
        "# Clearing the set\n",
        "clearSet = alphSet.clear()\n",
        "\n",
        "# Printing the empty set\n",
        "print(clearSet)"
      ],
      "metadata": {
        "colab": {
          "base_uri": "https://localhost:8080/"
        },
        "id": "3mtcw_Otarao",
        "outputId": "5915aaa3-9860-48a1-ae78-b65ca9c5f74c"
      },
      "execution_count": null,
      "outputs": [
        {
          "output_type": "stream",
          "name": "stdout",
          "text": [
            "None\n"
          ]
        }
      ]
    },
    {
      "cell_type": "code",
      "source": [
        "#Q18. Write a code to remove the element 4 from the set {1, 2, 3, 4}.\n",
        "\n",
        "# Original set\n",
        "numbers = {1, 2, 3, 4}\n",
        "\n",
        "# Removing the element 4\n",
        "numbers.remove(4)\n",
        "\n",
        "# Printing the updated set\n",
        "print(numbers)"
      ],
      "metadata": {
        "colab": {
          "base_uri": "https://localhost:8080/"
        },
        "id": "0HCHFGYPayYw",
        "outputId": "88b2a2c0-7b21-4d8e-b5f7-e776cf49a7bf"
      },
      "execution_count": null,
      "outputs": [
        {
          "output_type": "stream",
          "name": "stdout",
          "text": [
            "{1, 2, 3}\n"
          ]
        }
      ]
    },
    {
      "cell_type": "code",
      "source": [
        "#Q19.  Write a code to find the union of two sets {1, 2, 3} and {3, 4, 5}.\n",
        "\n",
        "# Define the sets\n",
        "set1 = {1, 2, 3}\n",
        "set2 = {3, 4, 5}\n",
        "\n",
        "# Compute the union\n",
        "union_set = set1.union(set2)\n",
        "\n",
        "# Display the result\n",
        "print(\"Union of sets:\", union_set)\n"
      ],
      "metadata": {
        "colab": {
          "base_uri": "https://localhost:8080/"
        },
        "id": "sQFnpfiOa-nM",
        "outputId": "a5c569f9-e57a-48e6-8bae-3aa9e940c2c1"
      },
      "execution_count": null,
      "outputs": [
        {
          "output_type": "stream",
          "name": "stdout",
          "text": [
            "Union of sets: {1, 2, 3, 4, 5}\n"
          ]
        }
      ]
    },
    {
      "cell_type": "code",
      "source": [
        "#Q20. Write a code to find the intersection of two sets {1, 2, 3} and {2, 3, 4}.\n",
        "\n",
        "# Defining the sets\n",
        "set1 = {1, 2, 3}\n",
        "set2 = {2, 3, 4}\n",
        "\n",
        "# Finding the intersection\n",
        "intersection = set1.intersection(set2)\n",
        "\n",
        "# Printing the result\n",
        "print(\"Intersection of sets:\", intersection)"
      ],
      "metadata": {
        "colab": {
          "base_uri": "https://localhost:8080/"
        },
        "id": "Ky1nCvR0bDrU",
        "outputId": "ce0ef66f-f16c-4ea4-c80a-7eb6f5349612"
      },
      "execution_count": null,
      "outputs": [
        {
          "output_type": "stream",
          "name": "stdout",
          "text": [
            "Intersection of sets: {2, 3}\n"
          ]
        }
      ]
    },
    {
      "cell_type": "code",
      "source": [
        "#Q21.  Write a code to create a dictionary with the keys \"name\", \"age\", and \"city\", and print it.\n",
        "\n",
        "# Creating a dictionary with keys \"name\", \"age\", and \"city\"\n",
        "person_info = {\n",
        "    \"name\": \"Amitava\",\n",
        "    \"age\": 33,\n",
        "    \"city\": \"Durgapur\"\n",
        "}\n",
        "\n",
        "# Printing the dictionary\n",
        "print(person_info)"
      ],
      "metadata": {
        "colab": {
          "base_uri": "https://localhost:8080/"
        },
        "id": "Q-gcbClLbNL9",
        "outputId": "3d7483bd-9e58-4d33-87a3-5539f11b5413"
      },
      "execution_count": null,
      "outputs": [
        {
          "output_type": "stream",
          "name": "stdout",
          "text": [
            "{'name': 'Amitava', 'age': 33, 'city': 'Durgapur'}\n"
          ]
        }
      ]
    },
    {
      "cell_type": "code",
      "source": [
        "#Q22. Write a code to add a new key-value pair \"country\": \"USA\" to the dictionary {'name': 'John', 'age': 25}.\n",
        "\n",
        "# Original dictionary\n",
        "person = {'name': 'Amitava', 'age': 33}\n",
        "\n",
        "# Adding a new key-value pair\n",
        "person['country'] = 'India'\n",
        "\n",
        "# Printing the updated dictionary\n",
        "print(person)"
      ],
      "metadata": {
        "colab": {
          "base_uri": "https://localhost:8080/"
        },
        "id": "WqKmk9ZLboM8",
        "outputId": "49fc33ff-7612-4272-ecf2-fa0c5afaa29c"
      },
      "execution_count": null,
      "outputs": [
        {
          "output_type": "stream",
          "name": "stdout",
          "text": [
            "{'name': 'Amitava', 'age': 33, 'country': 'India'}\n"
          ]
        }
      ]
    },
    {
      "cell_type": "code",
      "source": [
        "#Q23.  Write a code to access the value associated with the key \"name\" in the dictionary {'name': 'Alice', 'age': 30}.\n",
        "\n",
        " # Dictionary with person info\n",
        "person_info = {'name': 'Amitava', 'age': 33}\n",
        "\n",
        "# Accessing the value for the key 'name'\n",
        "name_value = person_info['name']\n",
        "\n",
        "# Printing the result\n",
        "print(\"Name:\", name_value)"
      ],
      "metadata": {
        "colab": {
          "base_uri": "https://localhost:8080/"
        },
        "id": "U61XWV9TcBZ5",
        "outputId": "5b77f0c1-9bb0-4a35-aebd-09e2d2ca8668"
      },
      "execution_count": null,
      "outputs": [
        {
          "output_type": "stream",
          "name": "stdout",
          "text": [
            "Name: Amitava\n"
          ]
        }
      ]
    },
    {
      "cell_type": "code",
      "source": [
        "#Q24. Write a code to remove the key \"age\" from the dictionary {'name': 'Bob', 'age': 22, 'city': 'New York'}.\n",
        "\n",
        "# Original dictionary\n",
        "person_info = {'name': 'Amitava', 'age': 33, 'city': 'Durgapur'}\n",
        "\n",
        "# Removing the key 'age'\n",
        "del person_info['age']\n",
        "\n",
        "# Printing the updated dictionary\n",
        "print(person_info)"
      ],
      "metadata": {
        "colab": {
          "base_uri": "https://localhost:8080/"
        },
        "id": "mz70LZZ5cM2I",
        "outputId": "fd4a369e-b8d6-454c-d930-55685858d6ff"
      },
      "execution_count": null,
      "outputs": [
        {
          "output_type": "stream",
          "name": "stdout",
          "text": [
            "{'name': 'Amitava', 'city': 'Durgapur'}\n"
          ]
        }
      ]
    },
    {
      "cell_type": "code",
      "source": [
        "#Q25. Write a code to check if the key \"city\" exists in the dictionary {'name': 'Alice', 'city': 'Paris'}.\n",
        "\n",
        "# Dictionary to work with\n",
        "person_info = {'name': 'Amitava', 'city': 'Durgapur'}\n",
        "\n",
        "# Checking if 'city' key exists\n",
        "has_city = 'city' in person_info\n",
        "\n",
        "# Printing the result\n",
        "print(\"Does 'city' exist in the dictionary?\", has_city)"
      ],
      "metadata": {
        "colab": {
          "base_uri": "https://localhost:8080/"
        },
        "id": "vzwJVWxScYfF",
        "outputId": "b0861d21-41a8-418b-e6d0-71ae09f29117"
      },
      "execution_count": null,
      "outputs": [
        {
          "output_type": "stream",
          "name": "stdout",
          "text": [
            "Does 'city' exist in the dictionary? True\n"
          ]
        }
      ]
    },
    {
      "cell_type": "code",
      "source": [
        "#Q26. Write a code to create a list, a tuple, and a dictionary, and print them all.\n",
        "\n",
        "# Creating a list\n",
        "my_list = [1, 2, 3, 4, 5]\n",
        "\n",
        "# Creating a tuple\n",
        "my_tuple = ('a', 'b', 'c')\n",
        "\n",
        "# Creating a dictionary\n",
        "my_dict = {'name': 'Amitava', 'age': 33, 'city': 'Durgapur'}\n",
        "\n",
        "# Printing all the structures\n",
        "print(\"List:\", my_list)\n",
        "print(\"Tuple:\", my_tuple)\n",
        "print(\"Dictionary:\", my_dict)"
      ],
      "metadata": {
        "colab": {
          "base_uri": "https://localhost:8080/"
        },
        "id": "glQGG3nIchzP",
        "outputId": "dd84c02d-b55e-42bd-88a9-3e72d4a31282"
      },
      "execution_count": null,
      "outputs": [
        {
          "output_type": "stream",
          "name": "stdout",
          "text": [
            "List: [1, 2, 3, 4, 5]\n",
            "Tuple: ('a', 'b', 'c')\n",
            "Dictionary: {'name': 'Amitava', 'age': 33, 'city': 'Durgapur'}\n"
          ]
        }
      ]
    },
    {
      "cell_type": "code",
      "source": [
        "#27.Write a code to create a list of 5 random numbers between 1 and 100, sort it in ascending order, and print the result.(replaced)\n",
        "import random\n",
        "\n",
        "# Create a list of 5 random numbers between 1 and 100\n",
        "random_numbers = random.sample(range(1, 101), 5)\n",
        "\n",
        "# Sort the list in ascending order\n",
        "random_numbers.sort()\n",
        "\n",
        "# Print the result\n",
        "print(random_numbers)"
      ],
      "metadata": {
        "colab": {
          "base_uri": "https://localhost:8080/"
        },
        "id": "Y-cDJmidc3JA",
        "outputId": "5c5b74f6-37f3-44ba-b56c-e81d86e281e5"
      },
      "execution_count": null,
      "outputs": [
        {
          "output_type": "stream",
          "name": "stdout",
          "text": [
            "[20, 42, 50, 66, 71]\n"
          ]
        }
      ]
    },
    {
      "cell_type": "code",
      "source": [
        "#Q28. Write a code to create a list with strings and print the element at the third index.\n",
        "\n",
        "# Creating a list with strings\n",
        "words = ['apple', 'banana', 'cherry', 'date', 'elderberry']\n",
        "print(f\"list : {words}\")\n",
        "\n",
        "# Accessing the element at the third index\n",
        "third_index_element = words[3]\n",
        "\n",
        "# Printing the result\n",
        "print(\"Element at index 3:\", third_index_element)"
      ],
      "metadata": {
        "colab": {
          "base_uri": "https://localhost:8080/"
        },
        "id": "YlD9UZL8dgNf",
        "outputId": "7a35f77d-477f-4b59-b7b6-bb0f61f92c0d"
      },
      "execution_count": null,
      "outputs": [
        {
          "output_type": "stream",
          "name": "stdout",
          "text": [
            "list : ['apple', 'banana', 'cherry', 'date', 'elderberry']\n",
            "Element at index 3: date\n"
          ]
        }
      ]
    },
    {
      "cell_type": "code",
      "source": [
        "#Q29. Write a code to combine two dictionaries into one and print the result.\n",
        "\n",
        "# Two dictionaries\n",
        "dict1 = {'name': 'Amitava', 'age': 33}\n",
        "dict2 = {'city': 'Durgapur', 'country': 'India'}\n",
        "print(f\"dict1 :{dict1}\")\n",
        "print(f\"dict2 :{dict2}\")\n",
        "\n",
        "# Combine using update()\n",
        "dict1.update(dict2)\n",
        "\n",
        "# Printing the combined dictionary\n",
        "print(\"Combined dictionary:\", dict1)"
      ],
      "metadata": {
        "colab": {
          "base_uri": "https://localhost:8080/"
        },
        "id": "E7GPcQV6e7TF",
        "outputId": "1b8164c5-6004-43fe-93b3-26fe6ad477ec"
      },
      "execution_count": null,
      "outputs": [
        {
          "output_type": "stream",
          "name": "stdout",
          "text": [
            "dict1 :{'name': 'Amitava', 'age': 33}\n",
            "dict2 :{'city': 'Durgapur', 'country': 'India'}\n",
            "Combined dictionary: {'name': 'Amitava', 'age': 33, 'city': 'Durgapur', 'country': 'India'}\n"
          ]
        }
      ]
    },
    {
      "cell_type": "code",
      "source": [
        "#Q30.  Write a code to convert a list of strings into a set.\n",
        "\n",
        "# List of strings\n",
        "string_list = ['apple', 'banana', 'cherry', 'apple', 'banana']\n",
        "print(f\"list of strings : {string_list}\")\n",
        "# Converting the list to a set\n",
        "string_set = set(string_list)\n",
        "\n",
        "# Printing the set\n",
        "print(\"Set of strings:\", string_set)"
      ],
      "metadata": {
        "colab": {
          "base_uri": "https://localhost:8080/"
        },
        "id": "SP3TyKmPfDaQ",
        "outputId": "d490fecf-bf7e-48eb-ec4d-4e1f17834edd"
      },
      "execution_count": null,
      "outputs": [
        {
          "output_type": "stream",
          "name": "stdout",
          "text": [
            "list of strings : ['apple', 'banana', 'cherry', 'apple', 'banana']\n",
            "Set of strings: {'banana', 'apple', 'cherry'}\n"
          ]
        }
      ]
    }
  ]
}